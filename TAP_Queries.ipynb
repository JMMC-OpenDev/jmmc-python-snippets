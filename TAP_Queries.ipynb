{
 "cells": [
  {
   "cell_type": "markdown",
   "id": "cc307966-d7ff-4fd5-a45c-6a882fa78cf0",
   "metadata": {},
   "source": [
    "# TAP snippets\n",
    "\n",
    "This notebook will gather some code samples to query the JMMC tap services. Check profile at the begining to reach ou public or beta releases.\n",
    "\n",
    "First samples relies on OiDB query.\n",
    "\n",
    "Cheers,\n"
   ]
  },
  {
   "cell_type": "markdown",
   "id": "3f7a0944-c87b-4dfa-8190-47bd391f29ee",
   "metadata": {
    "editable": true,
    "slideshow": {
     "slide_type": ""
    },
    "tags": []
   },
   "source": [
    "# Get stats from OiDB using TAP "
   ]
  },
  {
   "cell_type": "code",
   "execution_count": 1,
   "id": "3bbeea02-9083-4d2b-8743-2145bbafd5cb",
   "metadata": {
    "editable": true,
    "slideshow": {
     "slide_type": ""
    },
    "tags": []
   },
   "outputs": [],
   "source": [
    "import pyvo\n",
    "from astropy.time import Time, TimeISOT\n",
    "\n",
    "profile={\"oidb\":\"\",\"tap\":\"\"}\n",
    "#uncomment next lines to get beta instances\n",
    "#profile={\"oidb\":\"-beta\",\"tap\":\"-preprod\"}\n",
    "\n",
    "oidbMainUrl=f\"http://oidb{profile['oidb']}.jmmc.fr\"\n",
    "oidbTapUrl=f\"http://tap{profile['tap']}.jmmc.fr/vollt/tap\"\n",
    "\n",
    "\n",
    "oidbTap = pyvo.dal.TAPService(oidbTapUrl)"
   ]
  },
  {
   "cell_type": "markdown",
   "id": "b840be89-cebd-4ba6-8699-a5e8b33c6d22",
   "metadata": {
    "editable": true,
    "slideshow": {
     "slide_type": ""
    },
    "tags": []
   },
   "source": [
    "## Get last submission and last obs dates for every collections"
   ]
  },
  {
   "cell_type": "code",
   "execution_count": 2,
   "id": "d04bb3f2-728c-449d-acf1-7196cc783ddc",
   "metadata": {
    "editable": true,
    "slideshow": {
     "slide_type": ""
    },
    "tags": []
   },
   "outputs": [
    {
     "data": {
      "text/html": [
       "<div><i>Table length=80</i>\n",
       "<table id=\"table132274948766992\" class=\"table-striped table-bordered table-condensed\">\n",
       "<thead><tr><th>obs_collection</th><th>last_subdate</th><th>last_tmax</th><th>last_obsdate</th></tr></thead>\n",
       "<thead><tr><th>object</th><th>object</th><th>float64</th><th>str26</th></tr></thead>\n",
       "<tr><td>J/A+A/493/L17</td><td>2015-06-22T22:27:21Z</td><td>54281.35546875</td><td>2007-06-30 08:31:52.500000</td></tr>\n",
       "<tr><td>J/A+A/536/A55</td><td>2015-06-22T22:35:46Z</td><td>55552.34375</td><td>2010-12-22 08:15:00</td></tr>\n",
       "<tr><td>J/A+A/544/A91</td><td>2015-06-22T22:36:58Z</td><td>55886.5</td><td>2011-11-21 12:00:00</td></tr>\n",
       "<tr><td>J/A+A/545/A130</td><td>2015-06-22T22:37:37Z</td><td>55136.1640625</td><td>2009-11-01 03:56:15</td></tr>\n",
       "<tr><td>J/A+A/558/A149</td><td>2015-06-22T22:39:35Z</td><td>55791.359375</td><td>2011-08-18 08:37:30</td></tr>\n",
       "<tr><td>J/A+A/558/A24</td><td>2015-06-22T22:40:58Z</td><td>56339.3984375</td><td>2013-02-16 09:33:45</td></tr>\n",
       "<tr><td>J/A+A/559/A111</td><td>2015-06-22T22:41:49Z</td><td>56115.4375</td><td>2012-07-07 10:30:00</td></tr>\n",
       "<tr><td>J/A+A/565/A71</td><td>2015-06-22T22:43:32Z</td><td>56196.39453125</td><td>2012-09-26 09:28:07.500000</td></tr>\n",
       "<tr><td>6b3ce0c9-09e7-48a2-b117-f78d9a4d7458</td><td>2015-06-25T12:15:22Z</td><td>56784.16796875</td><td>2014-05-07 04:01:52.500000</td></tr>\n",
       "<tr><td>...</td><td>...</td><td>...</td><td>...</td></tr>\n",
       "<tr><td>ec20bf76-8c96-4640-a0bf-768c96f6403b</td><td>2024-05-29T13:38:52Z</td><td>59729.04797769699</td><td>2022-05-30 01:09:05.273020</td></tr>\n",
       "<tr><td>1e9bab59-54c9-416d-9bab-5954c9416db7</td><td>2024-06-03T14:21:22Z</td><td>57378.20456951205</td><td>2015-12-22 04:54:34.805841</td></tr>\n",
       "<tr><td>0ab199d0-29c4-40d7-b199-d029c420d795</td><td>2024-06-04T10:07:22Z</td><td>58886.037627314814</td><td>2020-02-07 00:54:11</td></tr>\n",
       "<tr><td>04211742-f428-4316-a117-42f4284316a4</td><td>2024-06-23T13:43:57Z</td><td>56820.40015129248</td><td>2014-06-12 09:36:13.071670</td></tr>\n",
       "<tr><td>cb5b2fd1-e23a-4c6c-9b2f-d1e23aec6c95</td><td>2024-06-25T09:50:46Z</td><td>58693.96802083333</td><td>2019-07-29 23:13:57</td></tr>\n",
       "<tr><td>f89ea077-14c6-49db-9ea0-7714c6d9db0f</td><td>2024-07-03T15:38:24Z</td><td>58722.28673611111</td><td>2019-08-27 06:52:54</td></tr>\n",
       "<tr><td>45840351-f65e-446c-8403-51f65e546c16</td><td>2024-10-20T23:49:59Z</td><td>54288.26880890362</td><td>2007-07-07 06:27:05.089272</td></tr>\n",
       "<tr><td>782185b2-0727-42b0-a185-b2072732b047</td><td>2024-11-19T16:38:46Z</td><td>60429.976910188074</td><td>2024-04-29 23:26:45.040250</td></tr>\n",
       "<tr><td>PIONIER</td><td>2024-12-11T07:52:40Z</td><td>60643.342727230454</td><td>2024-11-29 08:13:31.632711</td></tr>\n",
       "<tr><td>eso_vlti_import</td><td>2025-01-10T06:00:05Z</td><td>60684.3733490074</td><td>2025-01-09 08:57:37.354239</td></tr>\n",
       "</table></div>"
      ],
      "text/plain": [
       "<Table length=80>\n",
       "           obs_collection            ...        last_obsdate       \n",
       "               object                ...           str26           \n",
       "------------------------------------ ... --------------------------\n",
       "                       J/A+A/493/L17 ... 2007-06-30 08:31:52.500000\n",
       "                       J/A+A/536/A55 ...        2010-12-22 08:15:00\n",
       "                       J/A+A/544/A91 ...        2011-11-21 12:00:00\n",
       "                      J/A+A/545/A130 ...        2009-11-01 03:56:15\n",
       "                      J/A+A/558/A149 ...        2011-08-18 08:37:30\n",
       "                       J/A+A/558/A24 ...        2013-02-16 09:33:45\n",
       "                      J/A+A/559/A111 ...        2012-07-07 10:30:00\n",
       "                       J/A+A/565/A71 ... 2012-09-26 09:28:07.500000\n",
       "6b3ce0c9-09e7-48a2-b117-f78d9a4d7458 ... 2014-05-07 04:01:52.500000\n",
       "                                 ... ...                        ...\n",
       "ec20bf76-8c96-4640-a0bf-768c96f6403b ... 2022-05-30 01:09:05.273020\n",
       "1e9bab59-54c9-416d-9bab-5954c9416db7 ... 2015-12-22 04:54:34.805841\n",
       "0ab199d0-29c4-40d7-b199-d029c420d795 ...        2020-02-07 00:54:11\n",
       "04211742-f428-4316-a117-42f4284316a4 ... 2014-06-12 09:36:13.071670\n",
       "cb5b2fd1-e23a-4c6c-9b2f-d1e23aec6c95 ...        2019-07-29 23:13:57\n",
       "f89ea077-14c6-49db-9ea0-7714c6d9db0f ...        2019-08-27 06:52:54\n",
       "45840351-f65e-446c-8403-51f65e546c16 ... 2007-07-07 06:27:05.089272\n",
       "782185b2-0727-42b0-a185-b2072732b047 ... 2024-04-29 23:26:45.040250\n",
       "                             PIONIER ... 2024-11-29 08:13:31.632711\n",
       "                     eso_vlti_import ... 2025-01-09 08:57:37.354239"
      ]
     },
     "execution_count": 2,
     "metadata": {},
     "output_type": "execute_result"
    }
   ],
   "source": [
    "query=\"SELECT obs_collection, MAX(subdate) AS last_subdate, MAX(t_max) AS last_tmax  FROM oidb GROUP BY obs_collection order by last_subdate\"\n",
    "table=oidbTap.search(query, maxrec=100, format=\"votable/td\").to_table()\n",
    "# convert mjd tmax to datetime\n",
    "table[\"last_obsdate\"]=Time(table[\"last_tmax\"], format='mjd').to_datetime().astype('str')\n",
    "table"
   ]
  },
  {
   "cell_type": "markdown",
   "id": "8df1bd4a-b3eb-42ba-ab44-a843649355cd",
   "metadata": {
    "editable": true,
    "slideshow": {
     "slide_type": ""
    },
    "tags": []
   },
   "source": [
    "### Extract information for a given obs_collection"
   ]
  },
  {
   "cell_type": "code",
   "execution_count": 3,
   "id": "ddcc0524-c2a0-46df-8ce5-acc387cffff0",
   "metadata": {
    "editable": true,
    "slideshow": {
     "slide_type": ""
    },
    "tags": []
   },
   "outputs": [
    {
     "name": "stdout",
     "output_type": "stream",
     "text": [
      "eso_vlti_import has last_subdate='2025-01-10T06:00:05Z' and last_obsdate='2025-01-09 08:57:37.354239'\n",
      "eso_vlti_import has last_subdate='2025-01-10T06:00:05Z' and last_obsdate='2025-01-09 08:57:37.354239'\n"
     ]
    }
   ],
   "source": [
    "obs_collection_id = \"eso_vlti_import\"\n",
    "\n",
    "row = table[ table[\"obs_collection\"] == obs_collection_id ][0]\n",
    "last_subdate = row[\"last_subdate\"]\n",
    "last_obsdate= row[\"last_obsdate\"]\n",
    "print(f\"{obs_collection_id} has last_subdate='{last_subdate}' and last_obsdate='{last_obsdate}'\")\n",
    "\n",
    "# Or specific query a single obs_collection\n",
    "query=f\"SELECT MAX(subdate) AS last_subdate, MAX(t_max) AS last_tmax  FROM oidb WHERE obs_collection='{obs_collection_id}'\"\n",
    "singletable=oidbTap.search(query, maxrec=100, format=\"votable/td\").to_table()\n",
    "singletable[\"last_obsdate\"]=Time(singletable[\"last_tmax\"], format='mjd').to_datetime().astype('str')\n",
    "last_subdate = singletable[\"last_subdate\"][0]\n",
    "last_obsdate = singletable[\"last_obsdate\"][0]\n",
    "print(f\"{obs_collection_id} has last_subdate='{last_subdate}' and last_obsdate='{last_obsdate}'\")\n",
    "\n"
   ]
  },
  {
   "cell_type": "markdown",
   "id": "7aca7eb2-7601-4241-b83a-8315ee50e224",
   "metadata": {
    "editable": true,
    "slideshow": {
     "slide_type": ""
    },
    "tags": []
   },
   "source": [
    "## Get number of records by calib_level, obs_collection"
   ]
  },
  {
   "cell_type": "code",
   "execution_count": 4,
   "id": "61bc2d02-4510-4b58-abad-76186968b169",
   "metadata": {
    "editable": true,
    "slideshow": {
     "slide_type": ""
    },
    "tags": []
   },
   "outputs": [],
   "source": [
    "query=\"SELECT count(*), calib_level, obs_collection FROM oidb GROUP BY obs_collection, calib_level ORDER BY calib_level\"\n",
    "table=oidbTap.search(query, maxrec=100, format=\"votable/td\").to_table()"
   ]
  },
  {
   "cell_type": "code",
   "execution_count": 5,
   "id": "df03c333-5b81-4d2a-9a93-0dbd46c66a24",
   "metadata": {
    "editable": true,
    "slideshow": {
     "slide_type": ""
    },
    "tags": []
   },
   "outputs": [
    {
     "data": {
      "text/html": [
       "<div><i>Table length=80</i>\n",
       "<table id=\"table132274949250512\" class=\"table-striped table-bordered table-condensed\">\n",
       "<thead><tr><th>count_all</th><th>calib_level</th><th>obs_collection</th></tr></thead>\n",
       "<thead><tr><th>int64</th><th>int32</th><th>object</th></tr></thead>\n",
       "<tr><td>37994</td><td>0</td><td>chara_import</td></tr>\n",
       "<tr><td>486982</td><td>0</td><td>eso_vlti_import</td></tr>\n",
       "<tr><td>6444</td><td>0</td><td>vegaobs_import</td></tr>\n",
       "<tr><td>178</td><td>1</td><td>d259d56c-7304-4131-99d5-6c7304c13119</td></tr>\n",
       "<tr><td>54</td><td>2</td><td>07f92587-f7ef-4f04-b925-87f7ef3f04c1</td></tr>\n",
       "<tr><td>2</td><td>2</td><td>1d51fe4f-48b5-4de5-91fe-4f48b58de5df</td></tr>\n",
       "<tr><td>2</td><td>2</td><td>3e71bedc-6d96-4675-b1be-dc6d9686752e</td></tr>\n",
       "<tr><td>2</td><td>2</td><td>45840351-f65e-446c-8403-51f65e546c16</td></tr>\n",
       "<tr><td>111</td><td>2</td><td>5866421b-f263-46c0-a642-1bf263a6c0bd</td></tr>\n",
       "<tr><td>...</td><td>...</td><td>...</td></tr>\n",
       "<tr><td>28</td><td>3</td><td>J/A+A/545/A130</td></tr>\n",
       "<tr><td>144</td><td>3</td><td>J/A+A/558/A149</td></tr>\n",
       "<tr><td>148</td><td>3</td><td>J/A+A/558/A24</td></tr>\n",
       "<tr><td>28</td><td>3</td><td>J/A+A/559/A111</td></tr>\n",
       "<tr><td>6</td><td>3</td><td>J/A+A/565/A71</td></tr>\n",
       "<tr><td>11</td><td>3</td><td>J/A+A/586/A35</td></tr>\n",
       "<tr><td>179</td><td>3</td><td>J/A+A/593/A45</td></tr>\n",
       "<tr><td>13</td><td>3</td><td>J/A+A/597/A137</td></tr>\n",
       "<tr><td>3</td><td>3</td><td>J/A+A/602/A78</td></tr>\n",
       "<tr><td>371</td><td>3</td><td>J/A+A/617/A83</td></tr>\n",
       "</table></div>"
      ],
      "text/plain": [
       "<Table length=80>\n",
       "count_all calib_level            obs_collection           \n",
       "  int64      int32                   object               \n",
       "--------- ----------- ------------------------------------\n",
       "    37994           0                         chara_import\n",
       "   486982           0                      eso_vlti_import\n",
       "     6444           0                       vegaobs_import\n",
       "      178           1 d259d56c-7304-4131-99d5-6c7304c13119\n",
       "       54           2 07f92587-f7ef-4f04-b925-87f7ef3f04c1\n",
       "        2           2 1d51fe4f-48b5-4de5-91fe-4f48b58de5df\n",
       "        2           2 3e71bedc-6d96-4675-b1be-dc6d9686752e\n",
       "        2           2 45840351-f65e-446c-8403-51f65e546c16\n",
       "      111           2 5866421b-f263-46c0-a642-1bf263a6c0bd\n",
       "      ...         ...                                  ...\n",
       "       28           3                       J/A+A/545/A130\n",
       "      144           3                       J/A+A/558/A149\n",
       "      148           3                        J/A+A/558/A24\n",
       "       28           3                       J/A+A/559/A111\n",
       "        6           3                        J/A+A/565/A71\n",
       "       11           3                        J/A+A/586/A35\n",
       "      179           3                        J/A+A/593/A45\n",
       "       13           3                       J/A+A/597/A137\n",
       "        3           3                        J/A+A/602/A78\n",
       "      371           3                        J/A+A/617/A83"
      ]
     },
     "execution_count": 5,
     "metadata": {},
     "output_type": "execute_result"
    }
   ],
   "source": [
    "table"
   ]
  },
  {
   "cell_type": "markdown",
   "id": "ae6acee4-aedb-4422-88ba-de04073438fc",
   "metadata": {
    "editable": true,
    "slideshow": {
     "slide_type": ""
    },
    "tags": []
   },
   "source": [
    "## Get number of records by quality_level,calib_level"
   ]
  },
  {
   "cell_type": "code",
   "execution_count": 6,
   "id": "306b1ea1-66dc-44b5-b3a8-08c3e16ec6f1",
   "metadata": {
    "editable": true,
    "slideshow": {
     "slide_type": ""
    },
    "tags": []
   },
   "outputs": [
    {
     "data": {
      "text/html": [
       "<div><i>Table length=13</i>\n",
       "<table id=\"table132274948993424\" class=\"table-striped table-bordered table-condensed\">\n",
       "<thead><tr><th>count_all</th><th>quality_level</th><th>calib_level</th></tr></thead>\n",
       "<thead><tr><th>int64</th><th>int32</th><th>int32</th></tr></thead>\n",
       "<tr><td>178</td><td>0</td><td>1</td></tr>\n",
       "<tr><td>680</td><td>0</td><td>2</td></tr>\n",
       "<tr><td>258</td><td>0</td><td>3</td></tr>\n",
       "<tr><td>1</td><td>1</td><td>2</td></tr>\n",
       "<tr><td>3</td><td>3</td><td>2</td></tr>\n",
       "<tr><td>2</td><td>3</td><td>3</td></tr>\n",
       "<tr><td>23</td><td>4</td><td>2</td></tr>\n",
       "<tr><td>143</td><td>4</td><td>3</td></tr>\n",
       "<tr><td>3</td><td>5</td><td>2</td></tr>\n",
       "<tr><td>2</td><td>5</td><td>3</td></tr>\n",
       "<tr><td>531420</td><td>--</td><td>0</td></tr>\n",
       "<tr><td>10740</td><td>--</td><td>2</td></tr>\n",
       "<tr><td>4146</td><td>--</td><td>3</td></tr>\n",
       "</table></div>"
      ],
      "text/plain": [
       "<Table length=13>\n",
       "count_all quality_level calib_level\n",
       "  int64       int32        int32   \n",
       "--------- ------------- -----------\n",
       "      178             0           1\n",
       "      680             0           2\n",
       "      258             0           3\n",
       "        1             1           2\n",
       "        3             3           2\n",
       "        2             3           3\n",
       "       23             4           2\n",
       "      143             4           3\n",
       "        3             5           2\n",
       "        2             5           3\n",
       "   531420            --           0\n",
       "    10740            --           2\n",
       "     4146            --           3"
      ]
     },
     "execution_count": 6,
     "metadata": {},
     "output_type": "execute_result"
    }
   ],
   "source": [
    "query=\"SELECT count(*), quality_level, calib_level FROM oidb GROUP BY quality_level, calib_level\"\n",
    "table=oidbTap.search(query, maxrec=100, format=\"votable/td\").to_table()\n",
    "table"
   ]
  }
 ],
 "metadata": {
  "kernelspec": {
   "display_name": "Python 3 (ipykernel)",
   "language": "python",
   "name": "python3"
  },
  "language_info": {
   "codemirror_mode": {
    "name": "ipython",
    "version": 3
   },
   "file_extension": ".py",
   "mimetype": "text/x-python",
   "name": "python",
   "nbconvert_exporter": "python",
   "pygments_lexer": "ipython3",
   "version": "3.11.6"
  },
  "vscode": {
   "interpreter": {
    "hash": "af71c39d2c5a77089dacebac0cd40852d8f53457e6ffaf39e53de42db39a43d2"
   }
  }
 },
 "nbformat": 4,
 "nbformat_minor": 5
}
