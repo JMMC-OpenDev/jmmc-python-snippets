{
 "cells": [
  {
   "cell_type": "markdown",
   "metadata": {},
   "source": [
    "# Some VO JMMC webservices ..."
   ]
  },
  {
   "cell_type": "markdown",
   "metadata": {},
   "source": [
    "Load common modules"
   ]
  },
  {
   "cell_type": "code",
   "execution_count": 1,
   "metadata": {},
   "outputs": [],
   "source": [
    "import pyvo"
   ]
  },
  {
   "cell_type": "markdown",
   "metadata": {},
   "source": [
    "## VOTABLES (TODO)"
   ]
  },
  {
   "cell_type": "code",
   "execution_count": null,
   "metadata": {},
   "outputs": [],
   "source": []
  },
  {
   "cell_type": "markdown",
   "metadata": {},
   "source": [
    "## TAP\n",
    "- https://www.ivoa.net/documents/TAP/"
   ]
  },
  {
   "cell_type": "markdown",
   "metadata": {},
   "source": [
    "### OiDB"
   ]
  },
  {
   "cell_type": "markdown",
   "metadata": {},
   "source": [
    "#### Get OiDB's TAP service"
   ]
  },
  {
   "cell_type": "code",
   "execution_count": 2,
   "metadata": {},
   "outputs": [],
   "source": [
    "oidbTapUrl=\"http://oidb.jmmc.fr/tap\"\n",
    "oidb = pyvo.dal.TAPService(oidbTapUrl)\n"
   ]
  },
  {
   "cell_type": "markdown",
   "metadata": {},
   "source": [
    "#### Query number of records per calib_levels"
   ]
  },
  {
   "cell_type": "code",
   "execution_count": 3,
   "metadata": {},
   "outputs": [
    {
     "data": {
      "text/html": [
       "<i>Table length=3</i>\n",
       "<table id=\"table140280431346640\" class=\"table-striped table-bordered table-condensed\">\n",
       "<thead><tr><th>calib_level</th><th>COUNT_ALL</th></tr></thead>\n",
       "<thead><tr><th>int32</th><th>int64</th></tr></thead>\n",
       "<tr><td>0</td><td>382102</td></tr>\n",
       "<tr><td>2</td><td>9560</td></tr>\n",
       "<tr><td>3</td><td>1674</td></tr>\n",
       "</table>"
      ],
      "text/plain": [
       "<Table length=3>\n",
       "calib_level COUNT_ALL\n",
       "   int32      int64  \n",
       "----------- ---------\n",
       "          0    382102\n",
       "          2      9560\n",
       "          3      1674"
      ]
     },
     "execution_count": 3,
     "metadata": {},
     "output_type": "execute_result"
    }
   ],
   "source": [
    "query=\"SELECT calib_level, COUNT(*) FROM oidb GROUP BY calib_level\"\n",
    "oidb.search(query).to_table()"
   ]
  },
  {
   "cell_type": "code",
   "execution_count": 4,
   "metadata": {},
   "outputs": [],
   "source": [
    "#### Query number of OIFits per instruments"
   ]
  },
  {
   "cell_type": "code",
   "execution_count": 5,
   "metadata": {},
   "outputs": [
    {
     "data": {
      "text/html": [
       "<i>Table length=20</i>\n",
       "<table id=\"table140280431349424\" class=\"table-striped table-bordered table-condensed\">\n",
       "<thead><tr><th>instrument_name</th><th>COUNT_ALL</th></tr></thead>\n",
       "<thead><tr><th>object</th><th>int64</th></tr></thead>\n",
       "<tr><td>6way_OB01</td><td>1</td></tr>\n",
       "<tr><td>6way_OB02</td><td>1</td></tr>\n",
       "<tr><td>AMBER</td><td>243</td></tr>\n",
       "<tr><td>CHARA_NIRO</td><td>5</td></tr>\n",
       "<tr><td>IONIC3</td><td>1</td></tr>\n",
       "<tr><td>IONIC3_v1</td><td>1</td></tr>\n",
       "<tr><td>IONIC3_v2</td><td>1</td></tr>\n",
       "<tr><td>IOTA</td><td>285</td></tr>\n",
       "<tr><td>MATISSE</td><td>276</td></tr>\n",
       "<tr><td>MIDI</td><td>1072</td></tr>\n",
       "<tr><td>MIRC</td><td>7</td></tr>\n",
       "<tr><td>MIRCX</td><td>73</td></tr>\n",
       "<tr><td>NPOI_2003-12-27</td><td>1</td></tr>\n",
       "<tr><td>NPOI_2004-01-07</td><td>1</td></tr>\n",
       "<tr><td>NPOI_2004-04-12</td><td>1</td></tr>\n",
       "<tr><td>NPOI_2004-07-19</td><td>1</td></tr>\n",
       "<tr><td>PIONIER</td><td>8979</td></tr>\n",
       "<tr><td>PTI</td><td>13</td></tr>\n",
       "<tr><td>SPHERE</td><td>2</td></tr>\n",
       "<tr><td>VEGA</td><td>270</td></tr>\n",
       "</table>"
      ],
      "text/plain": [
       "<Table length=20>\n",
       "instrument_name COUNT_ALL\n",
       "     object       int64  \n",
       "--------------- ---------\n",
       "      6way_OB01         1\n",
       "      6way_OB02         1\n",
       "          AMBER       243\n",
       "     CHARA_NIRO         5\n",
       "         IONIC3         1\n",
       "      IONIC3_v1         1\n",
       "      IONIC3_v2         1\n",
       "           IOTA       285\n",
       "        MATISSE       276\n",
       "           MIDI      1072\n",
       "           MIRC         7\n",
       "          MIRCX        73\n",
       "NPOI_2003-12-27         1\n",
       "NPOI_2004-01-07         1\n",
       "NPOI_2004-04-12         1\n",
       "NPOI_2004-07-19         1\n",
       "        PIONIER      8979\n",
       "            PTI        13\n",
       "         SPHERE         2\n",
       "           VEGA       270"
      ]
     },
     "execution_count": 5,
     "metadata": {},
     "output_type": "execute_result"
    }
   ],
   "source": [
    "query=\"SELECT instrument_name, COUNT(*) FROM oidb WHERE calib_level > 0 GROUP BY instrument_name ORDER BY instrument_name\"\n",
    "oidb.search(query).to_table()"
   ]
  },
  {
   "cell_type": "markdown",
   "metadata": {},
   "source": [
    "#### Query number of collections per instruments"
   ]
  },
  {
   "cell_type": "code",
   "execution_count": 6,
   "metadata": {},
   "outputs": [
    {
     "data": {
      "text/html": [
       "<i>Table length=20</i>\n",
       "<table id=\"table140280431348704\" class=\"table-striped table-bordered table-condensed\">\n",
       "<thead><tr><th>instrument_name</th><th>COUNT</th></tr></thead>\n",
       "<thead><tr><th>object</th><th>int64</th></tr></thead>\n",
       "<tr><td>6way_OB01</td><td>1</td></tr>\n",
       "<tr><td>6way_OB02</td><td>1</td></tr>\n",
       "<tr><td>AMBER</td><td>9</td></tr>\n",
       "<tr><td>CHARA_NIRO</td><td>1</td></tr>\n",
       "<tr><td>IONIC3</td><td>1</td></tr>\n",
       "<tr><td>IONIC3_v1</td><td>1</td></tr>\n",
       "<tr><td>IONIC3_v2</td><td>1</td></tr>\n",
       "<tr><td>IOTA</td><td>1</td></tr>\n",
       "<tr><td>MATISSE</td><td>4</td></tr>\n",
       "<tr><td>MIDI</td><td>8</td></tr>\n",
       "<tr><td>MIRC</td><td>1</td></tr>\n",
       "<tr><td>MIRCX</td><td>3</td></tr>\n",
       "<tr><td>NPOI_2003-12-27</td><td>1</td></tr>\n",
       "<tr><td>NPOI_2004-01-07</td><td>1</td></tr>\n",
       "<tr><td>NPOI_2004-04-12</td><td>1</td></tr>\n",
       "<tr><td>NPOI_2004-07-19</td><td>1</td></tr>\n",
       "<tr><td>PIONIER</td><td>6</td></tr>\n",
       "<tr><td>PTI</td><td>1</td></tr>\n",
       "<tr><td>SPHERE</td><td>1</td></tr>\n",
       "<tr><td>VEGA</td><td>3</td></tr>\n",
       "</table>"
      ],
      "text/plain": [
       "<Table length=20>\n",
       "instrument_name COUNT\n",
       "     object     int64\n",
       "--------------- -----\n",
       "      6way_OB01     1\n",
       "      6way_OB02     1\n",
       "          AMBER     9\n",
       "     CHARA_NIRO     1\n",
       "         IONIC3     1\n",
       "      IONIC3_v1     1\n",
       "      IONIC3_v2     1\n",
       "           IOTA     1\n",
       "        MATISSE     4\n",
       "           MIDI     8\n",
       "           MIRC     1\n",
       "          MIRCX     3\n",
       "NPOI_2003-12-27     1\n",
       "NPOI_2004-01-07     1\n",
       "NPOI_2004-04-12     1\n",
       "NPOI_2004-07-19     1\n",
       "        PIONIER     6\n",
       "            PTI     1\n",
       "         SPHERE     1\n",
       "           VEGA     3"
      ]
     },
     "execution_count": 6,
     "metadata": {},
     "output_type": "execute_result"
    }
   ],
   "source": [
    "query=\"SELECT instrument_name, COUNT(DISTINCT(obs_collection)) FROM oidb WHERE calib_level > 0 GROUP BY instrument_name ORDER BY instrument_name\"\n",
    "oidb.search(query).to_table()"
   ]
  },
  {
   "cell_type": "markdown",
   "metadata": {},
   "source": [
    "## SAMP (TODO)"
   ]
  },
  {
   "cell_type": "code",
   "execution_count": null,
   "metadata": {},
   "outputs": [],
   "source": []
  }
 ],
 "metadata": {
  "kernelspec": {
   "display_name": "Python 3",
   "language": "python",
   "name": "python3"
  },
  "language_info": {
   "codemirror_mode": {
    "name": "ipython",
    "version": 3
   },
   "file_extension": ".py",
   "mimetype": "text/x-python",
   "name": "python",
   "nbconvert_exporter": "python",
   "pygments_lexer": "ipython3",
   "version": "3.8.5"
  }
 },
 "nbformat": 4,
 "nbformat_minor": 4
}
