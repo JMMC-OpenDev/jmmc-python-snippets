{
 "cells": [
  {
   "cell_type": "markdown",
   "id": "3f7a0944-c87b-4dfa-8190-47bd391f29ee",
   "metadata": {},
   "source": [
    "## Update OiDB metadata using JMMC's CatalogAPI"
   ]
  },
  {
   "cell_type": "code",
   "execution_count": 1,
   "id": "b045df24-276b-4af5-9e0d-33ff7f2412b5",
   "metadata": {},
   "outputs": [
    {
     "name": "stderr",
     "output_type": "stream",
     "text": [
      "INFO - a2p2.jmmc.catalogs  - 2022-03-25 14:30:33,582 - catalogs.py:44 - Create catalog wrapper to access 'oidb' (production API at https://oidb.jmmc.fr/restxq/catalogs)\n"
     ]
    }
   ],
   "source": [
    "import pyvo\n",
    "from a2p2.jmmc import Catalog\n",
    "\n",
    "prod=False\n",
    "prod=True\n",
    "\n",
    "if True:\n",
    "    oidbMainUrl=\"http://oidb.jmmc.fr\"\n",
    "    oidbTapUrl=\"http://tap.jmmc.fr/vollt/tap\"\n",
    "else:    \n",
    "    oidbMainUrl=\"http://oidb-beta.jmmc.fr\"\n",
    "    oidbTapUrl=\"http://tap-preprod.jmmc.fr/vollt/tap\"\n",
    "\n",
    "oidbTap = pyvo.dal.TAPService(oidbTapUrl)\n",
    "oidbCatalog = Catalog(\"oidb\", prod=prod)"
   ]
  },
  {
   "cell_type": "markdown",
   "id": "decde77a-e1f7-45f8-95a1-9325c0a163a3",
   "metadata": {},
   "source": [
    "### Define helper function to fix content"
   ]
  },
  {
   "cell_type": "code",
   "execution_count": 2,
   "id": "7372de60-6b57-4365-a18a-f3323bc64c5c",
   "metadata": {},
   "outputs": [],
   "source": [
    "collectionToDataPi={\n",
    "    \"371c145f-7889-47d5-9c14-5f7889c7d510\":\"KRAUS\",\n",
    "    \"c5a5d133-a178-4949-a5d1-33a1781949e5\":\"SOULAIN\"\n",
    "}\n",
    "\n",
    "def fixDataPi(granule):\n",
    "    \"\"\"Use a hardcoded mapping to fix datapi automatically if the value in database have to be updated.\n",
    "    returns: none if notheing has to be changed else a dict. that can be given to catalog.updateRows().\n",
    "    \"\"\"\n",
    "    collection_id=granule['obs_collection']\n",
    "    if collection_id in collectionToDataPi:                \n",
    "        dataPI_g = granule['datapi']\n",
    "        dataPI_c = collectionToDataPi[collection_id]\n",
    "        if dataPI_g != dataPI_c:\n",
    "            granule_id = granule['id']            \n",
    "            return {\"id\": str(granule_id), \"datapi\": dataPI_c} # force str to avoid TypeError: Object of type int64 is not JSON serializable\n",
    "    else:\n",
    "        print(f\"Can't fix dataPI, please complete collectionToDataPi dict. with \\\"{collection_id}\\\":\\\"PINAME\\\"\")\n",
    "        print(f\"  visit {oidbMainUrl}/collection.html?id={collection_id}\")\n",
    "        \n",
    "def fixRecords(query):\n",
    "    \"\"\" Walk accross granules selected by given query and return a list of dict so we can update the oidb catalog using api.updateRows()\"\"\"\n",
    "    updates=[]\n",
    "    granules = oidbTap.search(query).to_table()\n",
    "    for granule in granules:\n",
    "        j = fixDataPi(granule)\n",
    "        if j:\n",
    "            updates+=(j)\n",
    "    return updates\n",
    "\n",
    "    #oidbCatalog"
   ]
  },
  {
   "cell_type": "markdown",
   "id": "8344283a-944a-482e-96fe-bab5870a70e6",
   "metadata": {},
   "source": [
    "### Fix some known cases"
   ]
  },
  {
   "cell_type": "code",
   "execution_count": 3,
   "id": "c25dae59-6a9a-4c86-a109-112f40dba618",
   "metadata": {},
   "outputs": [],
   "source": [
    "updates=[] # accumulates json update orders\n",
    "\n",
    "# Fix case 1 : Avoid bad datapis\n",
    "dataPiToFix=\"Guillaume Mella\" # this guy can't be a datapi, he often does hesitate between RA and DEC\n",
    "query = f\"SELECT ALL * FROM oidb AS t WHERE ( t.datapi LIKE '%{dataPiToFix}%' )\"\n",
    "case1updates = fixRecords(query)\n",
    "\n",
    "        \n",
    "# Fix case 2 : Update SUV collections so we leave JMMC colleague as collection_creator but fix dataPi since we can't yet deposit data for another people.\n",
    "suv_collections=[\"c5a5d133-a178-4949-a5d1-33a1781949e5\"] # we may get full list using a query...\n",
    "case2updates=[]\n",
    "for collection_id in suv_collections:\n",
    "    query = f\"SELECT ALL * FROM oidb AS t WHERE obs_collection='{collection_id}'\"\n",
    "    case2updates+=fixRecords(query)\n",
    "    \n",
    "# Apply updates if we have orders    \n",
    "for updates in (case1updates,case2updates):\n",
    "    if len(updates)>0:\n",
    "        print(f\"Submitting {len(updates)} through catalogAPI\")\n",
    "        oidbCatalog.updateRows(updates)\n",
    "\n",
    "# That's all folks !!!"
   ]
  }
 ],
 "metadata": {
  "kernelspec": {
   "display_name": "Python 3 (ipykernel)",
   "language": "python",
   "name": "python3"
  },
  "language_info": {
   "codemirror_mode": {
    "name": "ipython",
    "version": 3
   },
   "file_extension": ".py",
   "mimetype": "text/x-python",
   "name": "python",
   "nbconvert_exporter": "python",
   "pygments_lexer": "ipython3",
   "version": "3.8.5"
  }
 },
 "nbformat": 4,
 "nbformat_minor": 5
}
