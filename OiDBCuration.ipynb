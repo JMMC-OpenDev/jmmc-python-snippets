{
 "cells": [
  {
   "cell_type": "markdown",
   "id": "3f7a0944-c87b-4dfa-8190-47bd391f29ee",
   "metadata": {},
   "source": [
    "## Update OiDB metadata using JMMC's CatalogAPI"
   ]
  },
  {
   "cell_type": "code",
   "execution_count": 1,
   "id": "b045df24-276b-4af5-9e0d-33ff7f2412b5",
   "metadata": {},
   "outputs": [
    {
     "name": "stderr",
     "output_type": "stream",
     "text": [
      "INFO - a2p2.jmmc.catalogs  - 2024-02-29 18:17:08,199 - catalogs.py:36 - Create catalog wrapper to access 'oidb' (production API at https://oidb.jmmc.fr/restxq/catalogs)\n"
     ]
    }
   ],
   "source": [
    "import pyvo\n",
    "from a2p2.jmmc import Catalog\n",
    "\n",
    "prod=False\n",
    "prod=True\n",
    "\n",
    "if prod==True:\n",
    "    oidbMainUrl=\"http://oidb.jmmc.fr\"\n",
    "    oidbTapUrl=\"http://tap.jmmc.fr/vollt/tap\"\n",
    "else:    \n",
    "    oidbMainUrl=\"http://oidb-beta.jmmc.fr\"\n",
    "    oidbTapUrl=\"http://tap-preprod.jmmc.fr/vollt/tap\"\n",
    "\n",
    "oidbTap = pyvo.dal.TAPService(oidbTapUrl)\n",
    "oidbCatalog = Catalog(\"oidb\", prod=prod)"
   ]
  },
  {
   "cell_type": "markdown",
   "id": "decde77a-e1f7-45f8-95a1-9325c0a163a3",
   "metadata": {},
   "source": [
    "### Define helper function to fix content"
   ]
  },
  {
   "cell_type": "code",
   "execution_count": 19,
   "id": "7372de60-6b57-4365-a18a-f3323bc64c5c",
   "metadata": {},
   "outputs": [],
   "source": [
    "def fixGranule(granule, constraints=None):    \n",
    "    todo = {}\n",
    "    \n",
    "    # try by collection\n",
    "    obs_collection=granule[\"obs_collection\"]    \n",
    "    if obs_collection in collectionReference:\n",
    "        ref = collectionReference[obs_collection]        \n",
    "        for col in ref.keys():\n",
    "            ref_value     = ref[col]\n",
    "            granule_value = granule[col]\n",
    "            if ref_value != granule_value:\n",
    "                todo[col]=ref_value\n",
    "\n",
    "    # try by granule\n",
    "    granule_id=granule[\"id\"]    \n",
    "    if granule_id in granuleReferences:\n",
    "        print (f\"have to check id={granule_id}\")\n",
    "        ref = granuleReferences[granule_id]\n",
    "        for col in ref.keys():\n",
    "            ref_value     = ref[col]\n",
    "            granule_value = granule[col]\n",
    "            if ref_value != granule_value:\n",
    "                todo[col]=ref_value\n",
    "                \n",
    "    # try by todo\n",
    "    for col in constraints.keys():\n",
    "        ref_value     = constraints[col]\n",
    "        granule_value = granule[col]\n",
    "        if ref_value != granule_value:\n",
    "            todo[col]=ref_value\n",
    "            \n",
    "    if todo:\n",
    "        todo[\"id\"]=str(granule[\"id\"])\n",
    "    return todo\n",
    "        \n",
    "def fixRecords(query, todo=None):\n",
    "    \"\"\" Walk accross granules selected by given query and return a list of dict so we can update the oidb catalog using api.updateRows()\"\"\"\n",
    "    updates=[]\n",
    "    granules = oidbTap.search(query).to_table()\n",
    "    print (f\"have to check {len(granules)} granule(s) for '{query}'\")\n",
    "\n",
    "    for granule in granules:\n",
    "        update = fixGranule(granule,todo)\n",
    "        if update:\n",
    "            updates.append(update)\n",
    "    if updates:\n",
    "        return updates\n"
   ]
  },
  {
   "cell_type": "markdown",
   "id": "8344283a-944a-482e-96fe-bab5870a70e6",
   "metadata": {},
   "source": [
    "### Fix some known cases"
   ]
  },
  {
   "cell_type": "code",
   "execution_count": 20,
   "id": "c25dae59-6a9a-4c86-a109-112f40dba618",
   "metadata": {},
   "outputs": [
    {
     "name": "stdout",
     "output_type": "stream",
     "text": [
      "have to check 0 granule(s) for 'SELECT ALL * FROM oidb AS t WHERE ( t.datapi LIKE '%Guillaume Mella%' )'\n",
      "nothing to do for 'Look for some records that may have bad metadata'\n",
      "have to check 52 granule(s) for 'SELECT ALL * FROM oidb AS t WHERE obs_collection='ddf733ce-758e-43c4-b733-ce758e33c4f3' AND em_min > 1.8e-6'\n",
      "52 record(s) to update through catalogAPI for 'Update by conditions references'\n"
     ]
    }
   ],
   "source": [
    "collectionReference={\n",
    "    #\"371c145f-7889-47d5-9c14-5f7889c7d510\":{\"datapi\":\"KRAUS\"},\n",
    "    #\"c5a5d133-a178-4949-a5d1-33a1781949e5\":{\"datapi\":\"SOULAIN\"},\n",
    "    #\"03a164ca-3110-446c-a164-ca3110746cdd\":{\"bib_reference\":\"2022Natur.602..403G\" },\n",
    "    #\"12803c68-6124-40ad-803c-68612470ad3d\":{\"bib_reference\":\"2022A&A...665A..32D\", \"calib_level\":3}\n",
    "    #\"76120870-3b88-4dfc-9208-703b881dfc57\":{\"datapi\":\"LAMBERTS\"}\n",
    "    #\"588ac90a-2e92-42f7-8ac9-0a2e92c2f701\": {\"datapi\":\"AUGEREAU\"},\n",
    "    #\"743b1acc-7463-464a-bb1a-cc7463664a0c\": {\"datapi\":\"AUGEREAU\"},\n",
    "    #\"a3e9ba2e-cd26-40f6-a9ba-2ecd2600f6b1\":{\"bib_reference\":\"2024A&A...681A..47V\", \"calib_level\":3}\n",
    "    #\"d259d56c-7304-4131-99d5-6c7304c13119\": {\"bib_reference\":\"2022MNRAS.510...82R\"}\n",
    "}\n",
    "\n",
    "granuleReferences={\n",
    "    # 1713641:{ \"instrument_name\":\"MYSTIC\" }, # instrument name was not present in OIDB\n",
    "}\n",
    "byConditionsReferences={\n",
    "    \"obs_collection='ddf733ce-758e-43c4-b733-ce758e33c4f3' AND em_min > 1.8e-6\" : { \"instrument_name\":\"MYSTIC\" },\n",
    "}\n",
    "\n",
    "\n",
    "updates=[] # accumulates json update orders\n",
    "\n",
    "# Fix case 1 : \n",
    "reason=\"Update reference collections\"\n",
    "for collection_id in collectionReference.keys():\n",
    "    query = f\"SELECT ALL * FROM oidb AS t WHERE obs_collection='{collection_id}'\"\n",
    "    u=fixRecords(query)\n",
    "    if u:\n",
    "        updates+=u\n",
    "        print(f\"{len(u)} record(s) to update through catalogAPI for '{reason}'\")    \n",
    "    else:\n",
    "        print(f\"nothing to do for '{reason}'\")        \n",
    "\n",
    "# Fix case 2 : \n",
    "reason=\"Update by granule references\"\n",
    "for granule_id in granuleReferences.keys():\n",
    "    query = f\"SELECT ALL * FROM oidb AS t WHERE id='{granule_id}'\"\n",
    "    u=fixRecords(query)\n",
    "    if u:\n",
    "        updates+=u\n",
    "        print(f\"{len(u)} record(s) to update through catalogAPI for '{reason}'\")    \n",
    "    else:\n",
    "        print(f\"nothing to do for '{reason}'\")        \n",
    "        \n",
    "        \n",
    "# Fix case 3 : \n",
    "reason = \"Look for some records that may have bad metadata\"\n",
    "dataPiToFix=\"Guillaume Mella\" # this guy can't be a datapi, he often does hesitate between RA and DEC\n",
    "query = f\"SELECT ALL * FROM oidb AS t WHERE ( t.datapi LIKE '%{dataPiToFix}%' )\"\n",
    "u=fixRecords(query)\n",
    "if u:\n",
    "    updates+=u\n",
    "    print(f\"{len(u)} record(s) to update through catalogAPI for '{reason}'\")    \n",
    "else:\n",
    "    print(f\"nothing to do for '{reason}'\")   \n",
    "    \n",
    "\n",
    "# Fix case 4 : \n",
    "reason=\"Update by conditions references\"\n",
    "for condition in byConditionsReferences.keys():\n",
    "    query = f\"SELECT ALL * FROM oidb AS t WHERE {condition}\"\n",
    "    u=fixRecords(query, byConditionsReferences[condition])\n",
    "    if u:\n",
    "        updates+=u\n",
    "        print(f\"{len(u)} record(s) to update through catalogAPI for '{reason}'\")    \n",
    "    else:\n",
    "        print(f\"nothing to do for '{reason}'\")        "
   ]
  },
  {
   "cell_type": "code",
   "execution_count": 21,
   "id": "cb7b4137-734c-446d-ac91-587c335756e4",
   "metadata": {},
   "outputs": [
    {
     "data": {
      "text/plain": [
       "[{'instrument_name': 'MYSTIC', 'id': '1754547'},\n",
       " {'instrument_name': 'MYSTIC', 'id': '1754548'},\n",
       " {'instrument_name': 'MYSTIC', 'id': '1754549'},\n",
       " {'instrument_name': 'MYSTIC', 'id': '1754550'},\n",
       " {'instrument_name': 'MYSTIC', 'id': '1754551'},\n",
       " {'instrument_name': 'MYSTIC', 'id': '1754552'},\n",
       " {'instrument_name': 'MYSTIC', 'id': '1754553'},\n",
       " {'instrument_name': 'MYSTIC', 'id': '1754554'},\n",
       " {'instrument_name': 'MYSTIC', 'id': '1754555'},\n",
       " {'instrument_name': 'MYSTIC', 'id': '1754556'},\n",
       " {'instrument_name': 'MYSTIC', 'id': '1754557'},\n",
       " {'instrument_name': 'MYSTIC', 'id': '1754558'},\n",
       " {'instrument_name': 'MYSTIC', 'id': '1754559'},\n",
       " {'instrument_name': 'MYSTIC', 'id': '1754560'},\n",
       " {'instrument_name': 'MYSTIC', 'id': '1754561'},\n",
       " {'instrument_name': 'MYSTIC', 'id': '1754562'},\n",
       " {'instrument_name': 'MYSTIC', 'id': '1754563'},\n",
       " {'instrument_name': 'MYSTIC', 'id': '1754564'},\n",
       " {'instrument_name': 'MYSTIC', 'id': '1754565'},\n",
       " {'instrument_name': 'MYSTIC', 'id': '1754566'},\n",
       " {'instrument_name': 'MYSTIC', 'id': '1754567'},\n",
       " {'instrument_name': 'MYSTIC', 'id': '1754568'},\n",
       " {'instrument_name': 'MYSTIC', 'id': '1754569'},\n",
       " {'instrument_name': 'MYSTIC', 'id': '1754570'},\n",
       " {'instrument_name': 'MYSTIC', 'id': '1754571'},\n",
       " {'instrument_name': 'MYSTIC', 'id': '1754572'},\n",
       " {'instrument_name': 'MYSTIC', 'id': '1754573'},\n",
       " {'instrument_name': 'MYSTIC', 'id': '1754574'},\n",
       " {'instrument_name': 'MYSTIC', 'id': '1754575'},\n",
       " {'instrument_name': 'MYSTIC', 'id': '1754576'},\n",
       " {'instrument_name': 'MYSTIC', 'id': '1754577'},\n",
       " {'instrument_name': 'MYSTIC', 'id': '1754578'},\n",
       " {'instrument_name': 'MYSTIC', 'id': '1754579'},\n",
       " {'instrument_name': 'MYSTIC', 'id': '1754580'},\n",
       " {'instrument_name': 'MYSTIC', 'id': '1754581'},\n",
       " {'instrument_name': 'MYSTIC', 'id': '1754582'},\n",
       " {'instrument_name': 'MYSTIC', 'id': '1754583'},\n",
       " {'instrument_name': 'MYSTIC', 'id': '1754584'},\n",
       " {'instrument_name': 'MYSTIC', 'id': '1754585'},\n",
       " {'instrument_name': 'MYSTIC', 'id': '1754586'},\n",
       " {'instrument_name': 'MYSTIC', 'id': '1754587'},\n",
       " {'instrument_name': 'MYSTIC', 'id': '1754588'},\n",
       " {'instrument_name': 'MYSTIC', 'id': '1754589'},\n",
       " {'instrument_name': 'MYSTIC', 'id': '1754590'},\n",
       " {'instrument_name': 'MYSTIC', 'id': '1754591'},\n",
       " {'instrument_name': 'MYSTIC', 'id': '1754592'},\n",
       " {'instrument_name': 'MYSTIC', 'id': '1754593'},\n",
       " {'instrument_name': 'MYSTIC', 'id': '1754594'},\n",
       " {'instrument_name': 'MYSTIC', 'id': '1754595'},\n",
       " {'instrument_name': 'MYSTIC', 'id': '1754596'},\n",
       " {'instrument_name': 'MYSTIC', 'id': '1754597'},\n",
       " {'instrument_name': 'MYSTIC', 'id': '1754598'}]"
      ]
     },
     "execution_count": 21,
     "metadata": {},
     "output_type": "execute_result"
    }
   ],
   "source": [
    "updates"
   ]
  },
  {
   "cell_type": "code",
   "execution_count": 22,
   "id": "627756e1-8d95-4f6a-8a7f-130b8f44ceb5",
   "metadata": {},
   "outputs": [
    {
     "name": "stderr",
     "output_type": "stream",
     "text": [
      "INFO - a2p2.jmmc.utils  - 2024-02-29 18:28:53,731 - utils.py:111 - performing PUT request on https://oidb.jmmc.fr/restxq/catalogs/oidb\n",
      "INFO - a2p2.jmmc.utils  - 2024-02-29 18:28:55,177 - utils.py:111 - performing PUT request on https://oidb.jmmc.fr/restxq/catalogs/oidb\n",
      "INFO - a2p2.jmmc.utils  - 2024-02-29 18:28:55,790 - utils.py:111 - performing PUT request on https://oidb.jmmc.fr/restxq/catalogs/oidb\n",
      "INFO - a2p2.jmmc.utils  - 2024-02-29 18:28:57,261 - utils.py:111 - performing PUT request on https://oidb.jmmc.fr/restxq/catalogs/oidb\n",
      "INFO - a2p2.jmmc.utils  - 2024-02-29 18:28:57,611 - utils.py:111 - performing PUT request on https://oidb.jmmc.fr/restxq/catalogs/oidb\n",
      "INFO - a2p2.jmmc.utils  - 2024-02-29 18:28:58,010 - utils.py:111 - performing PUT request on https://oidb.jmmc.fr/restxq/catalogs/oidb\n",
      "INFO - a2p2.jmmc.utils  - 2024-02-29 18:28:58,484 - utils.py:111 - performing PUT request on https://oidb.jmmc.fr/restxq/catalogs/oidb\n",
      "INFO - a2p2.jmmc.utils  - 2024-02-29 18:28:58,976 - utils.py:111 - performing PUT request on https://oidb.jmmc.fr/restxq/catalogs/oidb\n",
      "INFO - a2p2.jmmc.utils  - 2024-02-29 18:28:59,460 - utils.py:111 - performing PUT request on https://oidb.jmmc.fr/restxq/catalogs/oidb\n",
      "INFO - a2p2.jmmc.utils  - 2024-02-29 18:28:59,776 - utils.py:111 - performing PUT request on https://oidb.jmmc.fr/restxq/catalogs/oidb\n",
      "INFO - a2p2.jmmc.utils  - 2024-02-29 18:29:00,084 - utils.py:111 - performing PUT request on https://oidb.jmmc.fr/restxq/catalogs/oidb\n",
      "INFO - a2p2.jmmc.utils  - 2024-02-29 18:29:00,463 - utils.py:111 - performing PUT request on https://oidb.jmmc.fr/restxq/catalogs/oidb\n",
      "INFO - a2p2.jmmc.utils  - 2024-02-29 18:29:00,870 - utils.py:111 - performing PUT request on https://oidb.jmmc.fr/restxq/catalogs/oidb\n",
      "INFO - a2p2.jmmc.utils  - 2024-02-29 18:29:01,166 - utils.py:111 - performing PUT request on https://oidb.jmmc.fr/restxq/catalogs/oidb\n",
      "INFO - a2p2.jmmc.utils  - 2024-02-29 18:29:01,809 - utils.py:111 - performing PUT request on https://oidb.jmmc.fr/restxq/catalogs/oidb\n",
      "INFO - a2p2.jmmc.utils  - 2024-02-29 18:29:02,166 - utils.py:111 - performing PUT request on https://oidb.jmmc.fr/restxq/catalogs/oidb\n",
      "INFO - a2p2.jmmc.utils  - 2024-02-29 18:29:02,750 - utils.py:111 - performing PUT request on https://oidb.jmmc.fr/restxq/catalogs/oidb\n",
      "INFO - a2p2.jmmc.utils  - 2024-02-29 18:29:03,429 - utils.py:111 - performing PUT request on https://oidb.jmmc.fr/restxq/catalogs/oidb\n",
      "INFO - a2p2.jmmc.utils  - 2024-02-29 18:29:03,887 - utils.py:111 - performing PUT request on https://oidb.jmmc.fr/restxq/catalogs/oidb\n",
      "INFO - a2p2.jmmc.utils  - 2024-02-29 18:29:04,375 - utils.py:111 - performing PUT request on https://oidb.jmmc.fr/restxq/catalogs/oidb\n",
      "INFO - a2p2.jmmc.utils  - 2024-02-29 18:29:04,763 - utils.py:111 - performing PUT request on https://oidb.jmmc.fr/restxq/catalogs/oidb\n",
      "INFO - a2p2.jmmc.utils  - 2024-02-29 18:29:05,089 - utils.py:111 - performing PUT request on https://oidb.jmmc.fr/restxq/catalogs/oidb\n",
      "INFO - a2p2.jmmc.utils  - 2024-02-29 18:29:05,490 - utils.py:111 - performing PUT request on https://oidb.jmmc.fr/restxq/catalogs/oidb\n",
      "INFO - a2p2.jmmc.utils  - 2024-02-29 18:29:05,979 - utils.py:111 - performing PUT request on https://oidb.jmmc.fr/restxq/catalogs/oidb\n",
      "INFO - a2p2.jmmc.utils  - 2024-02-29 18:29:06,457 - utils.py:111 - performing PUT request on https://oidb.jmmc.fr/restxq/catalogs/oidb\n",
      "INFO - a2p2.jmmc.utils  - 2024-02-29 18:29:06,830 - utils.py:111 - performing PUT request on https://oidb.jmmc.fr/restxq/catalogs/oidb\n",
      "INFO - a2p2.jmmc.utils  - 2024-02-29 18:29:07,138 - utils.py:111 - performing PUT request on https://oidb.jmmc.fr/restxq/catalogs/oidb\n",
      "INFO - a2p2.jmmc.utils  - 2024-02-29 18:29:07,586 - utils.py:111 - performing PUT request on https://oidb.jmmc.fr/restxq/catalogs/oidb\n",
      "INFO - a2p2.jmmc.utils  - 2024-02-29 18:29:08,059 - utils.py:111 - performing PUT request on https://oidb.jmmc.fr/restxq/catalogs/oidb\n",
      "INFO - a2p2.jmmc.utils  - 2024-02-29 18:29:08,916 - utils.py:111 - performing PUT request on https://oidb.jmmc.fr/restxq/catalogs/oidb\n",
      "INFO - a2p2.jmmc.utils  - 2024-02-29 18:29:09,224 - utils.py:111 - performing PUT request on https://oidb.jmmc.fr/restxq/catalogs/oidb\n",
      "INFO - a2p2.jmmc.utils  - 2024-02-29 18:29:09,563 - utils.py:111 - performing PUT request on https://oidb.jmmc.fr/restxq/catalogs/oidb\n",
      "INFO - a2p2.jmmc.utils  - 2024-02-29 18:29:09,886 - utils.py:111 - performing PUT request on https://oidb.jmmc.fr/restxq/catalogs/oidb\n",
      "INFO - a2p2.jmmc.utils  - 2024-02-29 18:29:10,187 - utils.py:111 - performing PUT request on https://oidb.jmmc.fr/restxq/catalogs/oidb\n",
      "INFO - a2p2.jmmc.utils  - 2024-02-29 18:29:10,639 - utils.py:111 - performing PUT request on https://oidb.jmmc.fr/restxq/catalogs/oidb\n",
      "INFO - a2p2.jmmc.utils  - 2024-02-29 18:29:11,078 - utils.py:111 - performing PUT request on https://oidb.jmmc.fr/restxq/catalogs/oidb\n",
      "INFO - a2p2.jmmc.utils  - 2024-02-29 18:29:12,249 - utils.py:111 - performing PUT request on https://oidb.jmmc.fr/restxq/catalogs/oidb\n",
      "INFO - a2p2.jmmc.utils  - 2024-02-29 18:29:12,542 - utils.py:111 - performing PUT request on https://oidb.jmmc.fr/restxq/catalogs/oidb\n",
      "INFO - a2p2.jmmc.utils  - 2024-02-29 18:29:12,975 - utils.py:111 - performing PUT request on https://oidb.jmmc.fr/restxq/catalogs/oidb\n",
      "INFO - a2p2.jmmc.utils  - 2024-02-29 18:29:13,354 - utils.py:111 - performing PUT request on https://oidb.jmmc.fr/restxq/catalogs/oidb\n",
      "INFO - a2p2.jmmc.utils  - 2024-02-29 18:29:13,845 - utils.py:111 - performing PUT request on https://oidb.jmmc.fr/restxq/catalogs/oidb\n",
      "INFO - a2p2.jmmc.utils  - 2024-02-29 18:29:14,206 - utils.py:111 - performing PUT request on https://oidb.jmmc.fr/restxq/catalogs/oidb\n",
      "INFO - a2p2.jmmc.utils  - 2024-02-29 18:29:14,814 - utils.py:111 - performing PUT request on https://oidb.jmmc.fr/restxq/catalogs/oidb\n",
      "INFO - a2p2.jmmc.utils  - 2024-02-29 18:29:15,203 - utils.py:111 - performing PUT request on https://oidb.jmmc.fr/restxq/catalogs/oidb\n",
      "INFO - a2p2.jmmc.utils  - 2024-02-29 18:29:15,551 - utils.py:111 - performing PUT request on https://oidb.jmmc.fr/restxq/catalogs/oidb\n",
      "INFO - a2p2.jmmc.utils  - 2024-02-29 18:29:15,929 - utils.py:111 - performing PUT request on https://oidb.jmmc.fr/restxq/catalogs/oidb\n",
      "INFO - a2p2.jmmc.utils  - 2024-02-29 18:29:16,235 - utils.py:111 - performing PUT request on https://oidb.jmmc.fr/restxq/catalogs/oidb\n",
      "INFO - a2p2.jmmc.utils  - 2024-02-29 18:29:16,666 - utils.py:111 - performing PUT request on https://oidb.jmmc.fr/restxq/catalogs/oidb\n",
      "INFO - a2p2.jmmc.utils  - 2024-02-29 18:29:17,177 - utils.py:111 - performing PUT request on https://oidb.jmmc.fr/restxq/catalogs/oidb\n",
      "INFO - a2p2.jmmc.utils  - 2024-02-29 18:29:17,518 - utils.py:111 - performing PUT request on https://oidb.jmmc.fr/restxq/catalogs/oidb\n",
      "INFO - a2p2.jmmc.utils  - 2024-02-29 18:29:17,886 - utils.py:111 - performing PUT request on https://oidb.jmmc.fr/restxq/catalogs/oidb\n",
      "INFO - a2p2.jmmc.utils  - 2024-02-29 18:29:18,500 - utils.py:111 - performing PUT request on https://oidb.jmmc.fr/restxq/catalogs/oidb\n"
     ]
    }
   ],
   "source": [
    "for update in updates:\n",
    "    pass\n",
    "# uncomment to apply changes\n",
    "    oidbCatalog.updateRows(updates)\n",
    "\n",
    "# That's all folks !!!"
   ]
  },
  {
   "cell_type": "code",
   "execution_count": null,
   "id": "b7a8f31a-cb56-4f44-988f-2277d06fbaac",
   "metadata": {},
   "outputs": [],
   "source": []
  },
  {
   "cell_type": "code",
   "execution_count": null,
   "id": "80042843-3269-4049-ac84-701f015f19dd",
   "metadata": {},
   "outputs": [],
   "source": []
  },
  {
   "cell_type": "code",
   "execution_count": null,
   "id": "df03c333-5b81-4d2a-9a93-0dbd46c66a24",
   "metadata": {},
   "outputs": [],
   "source": []
  }
 ],
 "metadata": {
  "kernelspec": {
   "display_name": "Python 3 (ipykernel)",
   "language": "python",
   "name": "python3"
  },
  "language_info": {
   "codemirror_mode": {
    "name": "ipython",
    "version": 3
   },
   "file_extension": ".py",
   "mimetype": "text/x-python",
   "name": "python",
   "nbconvert_exporter": "python",
   "pygments_lexer": "ipython3",
   "version": "3.8.5"
  },
  "vscode": {
   "interpreter": {
    "hash": "af71c39d2c5a77089dacebac0cd40852d8f53457e6ffaf39e53de42db39a43d2"
   }
  }
 },
 "nbformat": 4,
 "nbformat_minor": 5
}
