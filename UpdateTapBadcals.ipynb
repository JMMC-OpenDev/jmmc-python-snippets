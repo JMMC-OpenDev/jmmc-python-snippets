{
 "cells": [
  {
   "cell_type": "markdown",
   "id": "2238934e-ff0b-438e-840a-a0f8701a8379",
   "metadata": {},
   "source": [
    "# Load main badcal database from old main website as votable and sync it with TAP badcal tables using catalogAPI (prod and preprod)"
   ]
  },
  {
   "cell_type": "code",
   "execution_count": 1,
   "id": "45fc4b0f-8034-49ea-b109-96b27bd69f9e",
   "metadata": {},
   "outputs": [
    {
     "name": "stderr",
     "output_type": "stream",
     "text": [
      "INFO - a2p2.jmmc.catalogs  - 2025-07-07 10:32:05,786 - catalogs.py:58 - Create catalog wrapper to access 'badcal' (pre-prod API at https://oidb-beta.jmmc.fr/restxq/catalogs)\n",
      "INFO - a2p2.jmmc.catalogs  - 2025-07-07 10:32:05,787 - catalogs.py:146 - Querying remote catalog : SELECT TOP 10000 * FROM badcal\n",
      "/tmp/ipykernel_56389/1907440205.py:19: SettingWithCopyWarning: \n",
      "A value is trying to be set on a copy of a slice from a DataFrame\n",
      "\n",
      "See the caveats in the documentation: https://pandas.pydata.org/pandas-docs/stable/user_guide/indexing.html#returning-a-view-versus-a-copy\n",
      "  missing_records.rename(columns=org_cname2dest_cname, inplace=True)\n",
      "INFO - a2p2.jmmc.catalogs  - 2025-07-07 10:32:05,825 - catalogs.py:58 - Create catalog wrapper to access 'badcal' (production API at https://oidb.jmmc.fr/restxq/catalogs)\n",
      "INFO - a2p2.jmmc.catalogs  - 2025-07-07 10:32:05,826 - catalogs.py:146 - Querying remote catalog : SELECT TOP 10000 * FROM badcal\n"
     ]
    },
    {
     "name": "stdout",
     "output_type": "stream",
     "text": [
      "# Cheking instance prod=False of TAP badcal\n",
      "  Badcal(prod=False) is synchronized\n",
      "# Cheking instance prod=True of TAP badcal\n",
      "  Badcal(prod=True) is synchronized\n"
     ]
    },
    {
     "name": "stderr",
     "output_type": "stream",
     "text": [
      "/tmp/ipykernel_56389/1907440205.py:19: SettingWithCopyWarning: \n",
      "A value is trying to be set on a copy of a slice from a DataFrame\n",
      "\n",
      "See the caveats in the documentation: https://pandas.pydata.org/pandas-docs/stable/user_guide/indexing.html#returning-a-view-versus-a-copy\n",
      "  missing_records.rename(columns=org_cname2dest_cname, inplace=True)\n"
     ]
    }
   ],
   "source": [
    "from a2p2.jmmc import Catalog\n",
    "from astropy.io.votable import parse\n",
    "\n",
    "badcal_vot = parse(\"http://apps.jmmc.fr/badcal-dsa/SubmitCone?DSACATTAB=badcal.valid_stars&RA=0.0&DEC=0.0&SR=360.0\")\n",
    "org_table  = badcal_vot.get_first_table().to_table().to_pandas()\n",
    "\n",
    "for prod in (False, True):\n",
    "    print(f\"# Cheking instance prod={prod} of TAP badcal\")\n",
    "\n",
    "    badcal_cat=Catalog(\"badcal\", prod=prod)\n",
    "    dest_table=badcal_cat.getDataFrame()\n",
    "    \n",
    "    dest_ids = dest_table[dest_table.columns[0]]\n",
    "    org_ids = org_table[org_table.columns[0]]\n",
    "    missing_records = org_table[~org_ids.isin(dest_ids)]\n",
    "    \n",
    "    # Prepate update dictionnary\n",
    "    org_cname2dest_cname = dict(zip(org_table.columns,dest_table.columns))\n",
    "    missing_records.rename(columns=org_cname2dest_cname, inplace=True)\n",
    "    update_dict = missing_records.to_dict('records')\n",
    "    if update_dict:\n",
    "        print(f\"Updating Badcal with {update_dict}\")\n",
    "        badcal_cat.addRows(update_dict)\n",
    "    else:\n",
    "        print(f\"  Badcal(prod={prod}) is synchronized\")"
   ]
  },
  {
   "cell_type": "code",
   "execution_count": null,
   "id": "e007c3de-03d2-4e9c-9d7f-97b4bc76dfe3",
   "metadata": {},
   "outputs": [],
   "source": []
  }
 ],
 "metadata": {
  "kernelspec": {
   "display_name": "Python 3 (ipykernel)",
   "language": "python",
   "name": "python3"
  },
  "language_info": {
   "codemirror_mode": {
    "name": "ipython",
    "version": 3
   },
   "file_extension": ".py",
   "mimetype": "text/x-python",
   "name": "python",
   "nbconvert_exporter": "python",
   "pygments_lexer": "ipython3",
   "version": "3.11.11"
  }
 },
 "nbformat": 4,
 "nbformat_minor": 5
}
