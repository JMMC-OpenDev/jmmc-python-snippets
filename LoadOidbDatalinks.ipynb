{
 "cells": [
  {
   "cell_type": "markdown",
   "metadata": {},
   "source": [
    "# This notebook get public pdb associated to OiDB granules"
   ]
  },
  {
   "cell_type": "markdown",
   "metadata": {
    "tags": []
   },
   "source": [
    "Load common modules & define oidb endpoint"
   ]
  },
  {
   "cell_type": "code",
   "execution_count": 1,
   "metadata": {
    "tags": []
   },
   "outputs": [],
   "source": [
    "import pyvo\n",
    "import pandas\n",
    "\n",
    "oidbTapUrl=\"http://tap.jmmc.fr/vollt/tap/\"\n",
    "oidb   = pyvo.dal.TAPService(oidbTapUrl)"
   ]
  },
  {
   "cell_type": "markdown",
   "metadata": {},
   "source": [
    "#### Perform query to retrieve access_url \n",
    "Please fill the web search form to get your set of granules and copy in the granuleQuery the one you get at the end of the page"
   ]
  },
  {
   "cell_type": "code",
   "execution_count": 4,
   "metadata": {
    "tags": []
   },
   "outputs": [],
   "source": [
    "# http://oidb.jmmc.fr/search.html?datapi=~COURTNEY-BARRER&instrument=PIONIER\n",
    "granuleQuery=\" SELECT ALL * FROM oidb AS t WHERE ( t.datapi LIKE '%COURTNEY-BARRER%' ) AND ( t.instrument_name LIKE 'PIONIER%' ) ORDER BY t_min DESC \"\n",
    "# http://oidb.jmmc.fr/search.html?progid=096.D-0099(A)\n",
    "#granuleQuery=\" SELECT ALL * FROM oidb AS t WHERE ( t.progid LIKE '096.D-0099(A)' ) ORDER BY t_min DESC\"\n",
    "\n",
    "idQuery=granuleQuery.replace(\"ALL *\", \"t.id\")\n",
    "query = f\"\"\"\n",
    "SELECT\n",
    "    DISTINCT access_url \n",
    "FROM\n",
    "    oidb_datalink as d \n",
    "WHERE \n",
    "    d.content_type='application/pdf' \n",
    "    AND\n",
    "    d.id IN ( {idQuery} )\n",
    "\"\"\"\n",
    "rows=oidb.search(query)"
   ]
  },
  {
   "cell_type": "markdown",
   "metadata": {},
   "source": [
    "#### Output a shell script with wget (user must fill the .netrc with proper credential to retrieve protected data) "
   ]
  },
  {
   "cell_type": "code",
   "execution_count": 5,
   "metadata": {},
   "outputs": [
    {
     "name": "stdout",
     "output_type": "stream",
     "text": [
      "wget http://apps.jmmc.fr/oidata/pionier/2022-04-28_TF_t3phi_setup04_bin03.pdf\n",
      "wget http://apps.jmmc.fr/oidata/pionier/2022-04-28_TF_vis2_setup04_bin03.pdf\n",
      "wget http://apps.jmmc.fr/oidata/pionier/2022-04-30_TF_t3phi_setup03_bin03.pdf\n",
      "wget http://apps.jmmc.fr/oidata/pionier/2022-04-30_TF_vis2_setup03_bin03.pdf\n",
      "wget http://apps.jmmc.fr/oidata/pionier/2022-05-03_TF_t3phi_setup05_bin03.pdf\n",
      "wget http://apps.jmmc.fr/oidata/pionier/2022-05-03_TF_t3phi_setup06_bin03.pdf\n",
      "wget http://apps.jmmc.fr/oidata/pionier/2022-05-03_TF_t3phi_setup07_bin03.pdf\n",
      "wget http://apps.jmmc.fr/oidata/pionier/2022-05-03_TF_t3phi_setup08_bin03.pdf\n",
      "wget http://apps.jmmc.fr/oidata/pionier/2022-05-03_TF_vis2_setup05_bin03.pdf\n",
      "wget http://apps.jmmc.fr/oidata/pionier/2022-05-03_TF_vis2_setup06_bin03.pdf\n",
      "wget http://apps.jmmc.fr/oidata/pionier/2022-05-03_TF_vis2_setup07_bin03.pdf\n",
      "wget http://apps.jmmc.fr/oidata/pionier/2022-05-03_TF_vis2_setup08_bin03.pdf\n",
      "wget http://apps.jmmc.fr/oidata/pionier/2022-07-04_TF_t3phi_setup02_bin03.pdf\n",
      "wget http://apps.jmmc.fr/oidata/pionier/2022-07-04_TF_t3phi_setup03_bin03.pdf\n",
      "wget http://apps.jmmc.fr/oidata/pionier/2022-07-04_TF_t3phi_setup04_bin03.pdf\n",
      "wget http://apps.jmmc.fr/oidata/pionier/2022-07-04_TF_t3phi_setup05_bin03.pdf\n",
      "wget http://apps.jmmc.fr/oidata/pionier/2022-07-04_TF_vis2_setup02_bin03.pdf\n",
      "wget http://apps.jmmc.fr/oidata/pionier/2022-07-04_TF_vis2_setup03_bin03.pdf\n",
      "wget http://apps.jmmc.fr/oidata/pionier/2022-07-04_TF_vis2_setup04_bin03.pdf\n",
      "wget http://apps.jmmc.fr/oidata/pionier/2022-07-04_TF_vis2_setup05_bin03.pdf\n",
      "wget http://apps.jmmc.fr/oidata/pionier/2022-09-22_TF_t3phi_setup02_bin03.pdf\n",
      "wget http://apps.jmmc.fr/oidata/pionier/2022-09-22_TF_vis2_setup02_bin03.pdf\n"
     ]
    }
   ],
   "source": [
    "for row in rows:\n",
    "    print(f\"wget {row['access_url']}\")"
   ]
  },
  {
   "cell_type": "code",
   "execution_count": null,
   "metadata": {},
   "outputs": [],
   "source": []
  }
 ],
 "metadata": {
  "kernelspec": {
   "display_name": "Python 3 (ipykernel)",
   "language": "python",
   "name": "python3"
  },
  "language_info": {
   "codemirror_mode": {
    "name": "ipython",
    "version": 3
   },
   "file_extension": ".py",
   "mimetype": "text/x-python",
   "name": "python",
   "nbconvert_exporter": "python",
   "pygments_lexer": "ipython3",
   "version": "3.8.5"
  }
 },
 "nbformat": 4,
 "nbformat_minor": 4
}
