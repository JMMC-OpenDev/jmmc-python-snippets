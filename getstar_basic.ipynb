{
 "cells": [
  {
   "cell_type": "markdown",
   "metadata": {},
   "source": [
    "### GetStar service\n",
    "\n",
    "* GetStar's homepage :  http://www.jmmc.fr/getstar\n",
    "\n",
    "Okay JMMC could provide a pip package...\n",
    "\n",
    "anyway, **let's useit in few lines** !"
   ]
  },
  {
   "cell_type": "code",
   "execution_count": 6,
   "metadata": {},
   "outputs": [],
   "source": [
    "import pandas\n",
    "from urllib.parse import quote_plus\n",
    "\n",
    "def getstar(stars, version=\"public\"): \n",
    "    if not isinstance(stars, list): stars=[stars]        \n",
    "    if \"beta\" in version: \n",
    "        ssep=\"|\"\n",
    "        account=\"bourgesl\"\n",
    "    else:\n",
    "        ssep=\",\"\n",
    "        account=\"sclws\"    \n",
    "    star = ssep.join([quote_plus(n) for n in stars])\n",
    "    url=\"http://apps.jmmc.fr/~%s/getstar/sclwsGetStarProxy.php?star=%s&format=tsv\"%(account, star)\n",
    "    return pandas.read_csv(url, comment='#', sep=\"\\t\")"
   ]
  },
  {
   "cell_type": "markdown",
   "metadata": {},
   "source": [
    "#### Get information for a single star"
   ]
  },
  {
   "cell_type": "code",
   "execution_count": 8,
   "metadata": {},
   "outputs": [
    {
     "data": {
      "text/html": [
       "<div>\n",
       "<style scoped>\n",
       "    .dataframe tbody tr th:only-of-type {\n",
       "        vertical-align: middle;\n",
       "    }\n",
       "\n",
       "    .dataframe tbody tr th {\n",
       "        vertical-align: top;\n",
       "    }\n",
       "\n",
       "    .dataframe thead th {\n",
       "        text-align: right;\n",
       "    }\n",
       "</style>\n",
       "<table border=\"1\" class=\"dataframe\">\n",
       "  <thead>\n",
       "    <tr style=\"text-align: right;\">\n",
       "      <th></th>\n",
       "      <th>HD</th>\n",
       "      <th>HIP</th>\n",
       "      <th>DM</th>\n",
       "      <th>TYC1</th>\n",
       "      <th>TYC2</th>\n",
       "      <th>TYC3</th>\n",
       "      <th>opt</th>\n",
       "      <th>2MASS</th>\n",
       "      <th>AKARI</th>\n",
       "      <th>WISE</th>\n",
       "      <th>...</th>\n",
       "      <th>dist</th>\n",
       "      <th>color_table_index</th>\n",
       "      <th>color_table_delta</th>\n",
       "      <th>color_table_index_fix</th>\n",
       "      <th>color_table_delta_fix</th>\n",
       "      <th>lum_class</th>\n",
       "      <th>lum_class_delta</th>\n",
       "      <th>SpType_JMMC</th>\n",
       "      <th>Name</th>\n",
       "      <th>Unnamed: 124</th>\n",
       "    </tr>\n",
       "  </thead>\n",
       "  <tbody>\n",
       "    <tr>\n",
       "      <th>0</th>\n",
       "      <td>20644</td>\n",
       "      <td>15549</td>\n",
       "      <td>2800516</td>\n",
       "      <td>1796</td>\n",
       "      <td>1306</td>\n",
       "      <td>1</td>\n",
       "      <td>T</td>\n",
       "      <td>03202038+2902545</td>\n",
       "      <td>200040881</td>\n",
       "      <td>J032020.40+290254.5</td>\n",
       "      <td>...</td>\n",
       "      <td>NaN</td>\n",
       "      <td>212</td>\n",
       "      <td>0</td>\n",
       "      <td>NaN</td>\n",
       "      <td>NaN</td>\n",
       "      <td>3</td>\n",
       "      <td>0</td>\n",
       "      <td>K3.00III</td>\n",
       "      <td>HIP 15549</td>\n",
       "      <td>NaN</td>\n",
       "    </tr>\n",
       "  </tbody>\n",
       "</table>\n",
       "<p>1 rows × 125 columns</p>\n",
       "</div>"
      ],
      "text/plain": [
       "      HD    HIP       DM  TYC1  TYC2  TYC3 opt             2MASS      AKARI  \\\n",
       "0  20644  15549  2800516  1796  1306     1   T  03202038+2902545  200040881   \n",
       "\n",
       "                  WISE  ... dist  color_table_index color_table_delta  \\\n",
       "0  J032020.40+290254.5  ...  NaN                212                 0   \n",
       "\n",
       "   color_table_index_fix  color_table_delta_fix  lum_class  lum_class_delta  \\\n",
       "0                    NaN                    NaN          3                0   \n",
       "\n",
       "   SpType_JMMC       Name  Unnamed: 124  \n",
       "0     K3.00III  HIP 15549           NaN  \n",
       "\n",
       "[1 rows x 125 columns]"
      ]
     },
     "execution_count": 8,
     "metadata": {},
     "output_type": "execute_result"
    }
   ],
   "source": [
    "getstar(\"HD  20644\")"
   ]
  },
  {
   "cell_type": "markdown",
   "metadata": {},
   "source": [
    "#### Get information for a list of stars"
   ]
  },
  {
   "cell_type": "code",
   "execution_count": 30,
   "metadata": {},
   "outputs": [],
   "source": [
    "stars= [\"* bet Per\",\"HD 20644\",\"* tau01 Ari\"] \n",
    "sinfo=getstar(stars)"
   ]
  },
  {
   "cell_type": "markdown",
   "metadata": {},
   "source": [
    "Display list of columns"
   ]
  },
  {
   "cell_type": "code",
   "execution_count": null,
   "metadata": {},
   "outputs": [],
   "source": [
    "\" / \".join(sinfo.columns.tolist())"
   ]
  },
  {
   "cell_type": "markdown",
   "metadata": {},
   "source": [
    "Output some values"
   ]
  },
  {
   "cell_type": "code",
   "execution_count": 31,
   "metadata": {},
   "outputs": [
    {
     "data": {
      "text/html": [
       "<div>\n",
       "<style scoped>\n",
       "    .dataframe tbody tr th:only-of-type {\n",
       "        vertical-align: middle;\n",
       "    }\n",
       "\n",
       "    .dataframe tbody tr th {\n",
       "        vertical-align: top;\n",
       "    }\n",
       "\n",
       "    .dataframe thead th {\n",
       "        text-align: right;\n",
       "    }\n",
       "</style>\n",
       "<table border=\"1\" class=\"dataframe\">\n",
       "  <thead>\n",
       "    <tr style=\"text-align: right;\">\n",
       "      <th></th>\n",
       "      <th>SIMBAD</th>\n",
       "      <th>Name</th>\n",
       "      <th>LDD</th>\n",
       "      <th>e_LDD</th>\n",
       "    </tr>\n",
       "  </thead>\n",
       "  <tbody>\n",
       "    <tr>\n",
       "      <th>0</th>\n",
       "      <td>* bet Per</td>\n",
       "      <td>HIP 14576</td>\n",
       "      <td>1.246323</td>\n",
       "      <td>0.101540</td>\n",
       "    </tr>\n",
       "    <tr>\n",
       "      <th>1</th>\n",
       "      <td>HD  20644</td>\n",
       "      <td>HIP 15549</td>\n",
       "      <td>3.876715</td>\n",
       "      <td>0.345985</td>\n",
       "    </tr>\n",
       "    <tr>\n",
       "      <th>2</th>\n",
       "      <td>* tau01 Ari</td>\n",
       "      <td>HIP 15627</td>\n",
       "      <td>0.212185</td>\n",
       "      <td>0.006382</td>\n",
       "    </tr>\n",
       "  </tbody>\n",
       "</table>\n",
       "</div>"
      ],
      "text/plain": [
       "        SIMBAD       Name       LDD     e_LDD\n",
       "0    * bet Per  HIP 14576  1.246323  0.101540\n",
       "1    HD  20644  HIP 15549  3.876715  0.345985\n",
       "2  * tau01 Ari  HIP 15627  0.212185  0.006382"
      ]
     },
     "execution_count": 31,
     "metadata": {},
     "output_type": "execute_result"
    }
   ],
   "source": [
    "sinfo[['SIMBAD', 'Name', 'LDD', 'e_LDD']]"
   ]
  },
  {
   "cell_type": "markdown",
   "metadata": {},
   "source": [
    "#### Check accross beta version"
   ]
  },
  {
   "cell_type": "code",
   "execution_count": 32,
   "metadata": {},
   "outputs": [],
   "source": [
    "sinfo_beta=getstar(stars, version='beta')"
   ]
  },
  {
   "cell_type": "code",
   "execution_count": 35,
   "metadata": {},
   "outputs": [
    {
     "data": {
      "text/html": [
       "<div>\n",
       "<style scoped>\n",
       "    .dataframe tbody tr th:only-of-type {\n",
       "        vertical-align: middle;\n",
       "    }\n",
       "\n",
       "    .dataframe tbody tr th {\n",
       "        vertical-align: top;\n",
       "    }\n",
       "\n",
       "    .dataframe thead th {\n",
       "        text-align: right;\n",
       "    }\n",
       "</style>\n",
       "<table border=\"1\" class=\"dataframe\">\n",
       "  <thead>\n",
       "    <tr style=\"text-align: right;\">\n",
       "      <th></th>\n",
       "      <th>SIMBAD</th>\n",
       "      <th>Name</th>\n",
       "      <th>LDD</th>\n",
       "      <th>e_LDD</th>\n",
       "    </tr>\n",
       "  </thead>\n",
       "  <tbody>\n",
       "    <tr>\n",
       "      <th>0</th>\n",
       "      <td>* bet Per</td>\n",
       "      <td>HIP 14576</td>\n",
       "      <td>1.246323</td>\n",
       "      <td>0.101540</td>\n",
       "    </tr>\n",
       "    <tr>\n",
       "      <th>0</th>\n",
       "      <td>* bet Per</td>\n",
       "      <td>TYC 2851-2168-1</td>\n",
       "      <td>1.247863</td>\n",
       "      <td>0.101666</td>\n",
       "    </tr>\n",
       "    <tr>\n",
       "      <th>2</th>\n",
       "      <td>* tau01 Ari</td>\n",
       "      <td>HIP 15627</td>\n",
       "      <td>0.212185</td>\n",
       "      <td>0.006382</td>\n",
       "    </tr>\n",
       "    <tr>\n",
       "      <th>2</th>\n",
       "      <td>* tau01 Ari</td>\n",
       "      <td>TYC 1245-1184-1</td>\n",
       "      <td>0.212968</td>\n",
       "      <td>0.006405</td>\n",
       "    </tr>\n",
       "    <tr>\n",
       "      <th>1</th>\n",
       "      <td>HD  20644</td>\n",
       "      <td>TYC 1796-1306-1</td>\n",
       "      <td>3.872329</td>\n",
       "      <td>0.345594</td>\n",
       "    </tr>\n",
       "    <tr>\n",
       "      <th>1</th>\n",
       "      <td>HD  20644</td>\n",
       "      <td>HIP 15549</td>\n",
       "      <td>3.876715</td>\n",
       "      <td>0.345985</td>\n",
       "    </tr>\n",
       "  </tbody>\n",
       "</table>\n",
       "</div>"
      ],
      "text/plain": [
       "        SIMBAD             Name       LDD     e_LDD\n",
       "0    * bet Per        HIP 14576  1.246323  0.101540\n",
       "0    * bet Per  TYC 2851-2168-1  1.247863  0.101666\n",
       "2  * tau01 Ari        HIP 15627  0.212185  0.006382\n",
       "2  * tau01 Ari  TYC 1245-1184-1  0.212968  0.006405\n",
       "1    HD  20644  TYC 1796-1306-1  3.872329  0.345594\n",
       "1    HD  20644        HIP 15549  3.876715  0.345985"
      ]
     },
     "execution_count": 35,
     "metadata": {},
     "output_type": "execute_result"
    }
   ],
   "source": [
    "pandas.concat([sinfo,sinfo_beta],sort=True).sort_values([\"SIMBAD\",'LDD'])[['SIMBAD', 'Name', 'LDD', 'e_LDD']]"
   ]
  }
 ],
 "metadata": {
  "kernelspec": {
   "display_name": "Python 3",
   "language": "python",
   "name": "python3"
  },
  "language_info": {
   "codemirror_mode": {
    "name": "ipython",
    "version": 3
   },
   "file_extension": ".py",
   "mimetype": "text/x-python",
   "name": "python",
   "nbconvert_exporter": "python",
   "pygments_lexer": "ipython3",
   "version": "3.5.3"
  }
 },
 "nbformat": 4,
 "nbformat_minor": 4
}
